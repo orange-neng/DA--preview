{
 "cells": [
  {
   "cell_type": "markdown",
   "metadata": {},
   "source": [
    "# Numpy库学习\n",
    "## 安装 pip3 install numpy -i http://localhost:8888/tree/python%E5%85%A5%E9%97%A8\n",
    "import numpy( as np 随意你设置的名字）\n"
   ]
  },
  {
   "cell_type": "code",
   "execution_count": 2,
   "metadata": {},
   "outputs": [
    {
     "name": "stdout",
     "output_type": "stream",
     "text": [
      "<class 'list'>\n",
      "<class 'numpy.ndarray'>\n"
     ]
    }
   ],
   "source": [
    "##list转array\n",
    "import numpy\n",
    "a=[1,2,3]\n",
    "b=numpy.array(a)\n",
    "print(type(a))\n",
    "print(type(b))"
   ]
  },
  {
   "cell_type": "code",
   "execution_count": 3,
   "metadata": {},
   "outputs": [
    {
     "name": "stdout",
     "output_type": "stream",
     "text": [
      "2\n"
     ]
    }
   ],
   "source": [
    "#.ndim 返回维度个数   最外面括号\n",
    "a=numpy.array([\n",
    "    [1,2,3],\n",
    "    [2,3,4]  \n",
    "])\n",
    "print(a.ndim)"
   ]
  },
  {
   "cell_type": "code",
   "execution_count": 4,
   "metadata": {},
   "outputs": [
    {
     "name": "stdout",
     "output_type": "stream",
     "text": [
      "(2, 3)\n"
     ]
    }
   ],
   "source": [
    "#.shape 返回形状   次层括号\n",
    "print(a.shape)"
   ]
  },
  {
   "cell_type": "code",
   "execution_count": 1,
   "metadata": {},
   "outputs": [
    {
     "data": {
      "text/plain": [
       "2"
      ]
     },
     "execution_count": 1,
     "metadata": {},
     "output_type": "execute_result"
    }
   ],
   "source": [
    "import numpy as np\n",
    "a=np.array([[0,1],\n",
    "           [9,8]])   ##两个中括号，两维。属性就不带括号，方法才有\n",
    "a.ndim  #属性就不带括号，方法才有"
   ]
  },
  {
   "cell_type": "code",
   "execution_count": 2,
   "metadata": {},
   "outputs": [
    {
     "data": {
      "text/plain": [
       "4"
      ]
     },
     "execution_count": 2,
     "metadata": {},
     "output_type": "execute_result"
    }
   ],
   "source": [
    "a.itemsize  ##内存多少"
   ]
  },
  {
   "cell_type": "code",
   "execution_count": 4,
   "metadata": {},
   "outputs": [],
   "source": [
    "?np.abs"
   ]
  },
  {
   "cell_type": "code",
   "execution_count": 7,
   "metadata": {},
   "outputs": [
    {
     "data": {
      "text/plain": [
       "array([[[-1.00391814, -0.62602721, -0.814412  ,  1.21038376,\n",
       "         -0.79832716],\n",
       "        [ 0.19767594, -0.38658186,  1.60404814, -2.04491718,\n",
       "         -0.40081789],\n",
       "        [ 1.30865031, -0.42970073,  0.94567646, -0.71932605,\n",
       "         -1.03318955],\n",
       "        [ 0.66316647,  0.10044813,  0.24578472,  0.35747219,\n",
       "         -0.12129558]],\n",
       "\n",
       "       [[ 0.30243244,  0.84467112,  1.52314251,  0.29993856,\n",
       "          0.3102731 ],\n",
       "        [-0.79218388, -0.77880665, -0.47323667,  1.161124  ,\n",
       "          0.21467437],\n",
       "        [-0.46661529,  1.36911268, -0.52628084,  1.06872209,\n",
       "          0.74790639],\n",
       "        [-2.02038809,  1.0278208 , -0.68898152, -0.90519788,\n",
       "         -0.12189568]],\n",
       "\n",
       "       [[ 0.88713264,  1.54809536,  1.6389248 ,  1.81835714,\n",
       "         -1.05307143],\n",
       "        [-0.1579503 ,  2.04346458, -1.06461512,  1.62979395,\n",
       "          1.36585026],\n",
       "        [ 0.35421258, -0.4224338 ,  0.74440794,  0.50770478,\n",
       "         -0.83838014],\n",
       "        [-0.50493189, -2.20561917, -0.69974747, -0.90975006,\n",
       "          0.83427967]]])"
      ]
     },
     "execution_count": 7,
     "metadata": {},
     "output_type": "execute_result"
    }
   ],
   "source": [
    "sn=np.random.randn(3,4,5)  #随机 0-1之间的小数  3维，4个[]，5个数"
   ]
  },
  {
   "cell_type": "code",
   "execution_count": null,
   "metadata": {},
   "outputs": [],
   "source": []
  }
 ],
 "metadata": {
  "kernelspec": {
   "display_name": "Python 3",
   "language": "python",
   "name": "python3"
  },
  "language_info": {
   "codemirror_mode": {
    "name": "ipython",
    "version": 3
   },
   "file_extension": ".py",
   "mimetype": "text/x-python",
   "name": "python",
   "nbconvert_exporter": "python",
   "pygments_lexer": "ipython3",
   "version": "3.8.5"
  }
 },
 "nbformat": 4,
 "nbformat_minor": 4
}
