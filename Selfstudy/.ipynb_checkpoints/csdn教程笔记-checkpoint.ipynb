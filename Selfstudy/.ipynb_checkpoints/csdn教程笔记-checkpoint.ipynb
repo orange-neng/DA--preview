{
 "cells": [
  {
   "cell_type": "code",
   "execution_count": 4,
   "metadata": {},
   "outputs": [
    {
     "name": "stdout",
     "output_type": "stream",
     "text": [
      "{'b': 40}\n"
     ]
    }
   ],
   "source": [
    "# check 字典的数据有咩有 a->1 b->40\n",
    "def check(dct,**kwargs):\n",
    "    for k,v in kwargs.items():\n",
    "        if dct.get(k)==v:\n",
    "            r={k:v}\n",
    "    return r\n",
    "print(check({'a':13,'b':40},a=1,b=40))"
   ]
  },
  {
   "cell_type": "code",
   "execution_count": 13,
   "metadata": {},
   "outputs": [
    {
     "name": "stdout",
     "output_type": "stream",
     "text": [
      "<class '__main__.Bar'>\n"
     ]
    }
   ],
   "source": [
    "# 类和实例\n",
    "class Bar:\n",
    "    @classmethod        #装饰器\n",
    "    def method(cls,x):  #这是类的方法，不是实例的，cls就是这个类Bar\n",
    "        print(cls)\n",
    "b1=Bar()\n",
    "b1.method(2)  #类方法的参数x=2 但是定义结果是打印cls"
   ]
  },
  {
   "cell_type": "code",
   "execution_count": 8,
   "metadata": {},
   "outputs": [
    {
     "data": {
      "text/plain": [
       "4"
      ]
     },
     "execution_count": 8,
     "metadata": {},
     "output_type": "execute_result"
    }
   ],
   "source": [
    "# 类和实例\n",
    "class Foo:     \n",
    "    def method(self,x):  #这是实例的方法，self就是实例；没有初始化方法这里\n",
    "        return x*2\n",
    "b2=Foo() #创建实例b2\n",
    "b2.method(2)   #2就是这里的x参数，self后面的需要介入"
   ]
  },
  {
   "cell_type": "code",
   "execution_count": 12,
   "metadata": {},
   "outputs": [
    {
     "data": {
      "text/plain": [
       "'add'"
      ]
     },
     "execution_count": 12,
     "metadata": {},
     "output_type": "execute_result"
    }
   ],
   "source": [
    "# 类和实例\n",
    "class Zoo:\n",
    "    @staticmethod\n",
    "    def method():  #这是静态方法，静态就是不随着实例变化而变化，所以参数没有实例相关的\n",
    "        return 'add'\n",
    "b3=Zoo() #创建实例b3\n",
    "b3.method()   "
   ]
  },
  {
   "cell_type": "code",
   "execution_count": 17,
   "metadata": {},
   "outputs": [],
   "source": [
    "#继承  子类单继承父类，but有个新的初始化方法，覆盖了父类的，但是又想要父类的初始化方法\n",
    "class Father:\n",
    "    def __init__(self,name,age):\n",
    "        self.name=name\n",
    "        self.age=age\n",
    "    \n",
    "class Child(Father):\n",
    "    def __init__(self,gender,name,age):\n",
    "        self.gender=gender\n",
    "        super().__init__(name,age)    #加入父类的初始化方法\n",
    "\n",
    "xiaoming=Child('female',\"xiaoming\",10)  #实例化的时候就要写完参数"
   ]
  },
  {
   "cell_type": "code",
   "execution_count": 20,
   "metadata": {},
   "outputs": [
    {
     "name": "stdout",
     "output_type": "stream",
     "text": [
      "ok\n"
     ]
    }
   ],
   "source": [
    "#多态和封装   对象的特性，类也是对象；私有化__xx实现封装\n",
    "#\n",
    "class Zoom:\n",
    "    def __repr__(self):\n",
    "        return \"yes\"\n",
    "    def __str__(self):\n",
    "        return \"ok\"\n",
    "d=Zoom()\n",
    "print(d)    #打印，是人打印；__str__对用户友好   __repr__对解释器友好"
   ]
  },
  {
   "cell_type": "code",
   "execution_count": null,
   "metadata": {},
   "outputs": [],
   "source": []
  }
 ],
 "metadata": {
  "kernelspec": {
   "display_name": "Python 3",
   "language": "python",
   "name": "python3"
  },
  "language_info": {
   "codemirror_mode": {
    "name": "ipython",
    "version": 3
   },
   "file_extension": ".py",
   "mimetype": "text/x-python",
   "name": "python",
   "nbconvert_exporter": "python",
   "pygments_lexer": "ipython3",
   "version": "3.8.0"
  }
 },
 "nbformat": 4,
 "nbformat_minor": 4
}
