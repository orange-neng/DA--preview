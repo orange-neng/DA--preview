{
 "cells": [
  {
   "cell_type": "code",
   "execution_count": 4,
   "metadata": {},
   "outputs": [
    {
     "name": "stdout",
     "output_type": "stream",
     "text": [
      "{'b': 40}\n"
     ]
    }
   ],
   "source": [
    "# check 字典的数据有咩有 a->1 b->40\n",
    "def check(dct,**kwargs):\n",
    "    for k,v in kwargs.items():\n",
    "        if dct.get(k)==v:\n",
    "            r={k:v}\n",
    "    return r\n",
    "print(check({'a':13,'b':40},a=1,b=40))"
   ]
  },
  {
   "cell_type": "code",
   "execution_count": 13,
   "metadata": {},
   "outputs": [
    {
     "name": "stdout",
     "output_type": "stream",
     "text": [
      "<class '__main__.Bar'>\n"
     ]
    }
   ],
   "source": [
    "# 类和实例\n",
    "class Bar:\n",
    "    @classmethod        #装饰器\n",
    "    def method(cls,x):  #这是类的方法，不是实例的，cls就是这个类Bar\n",
    "        print(cls)\n",
    "b1=Bar()\n",
    "b1.method(2)  #类方法的参数x=2 但是定义结果是打印cls"
   ]
  },
  {
   "cell_type": "code",
   "execution_count": 8,
   "metadata": {},
   "outputs": [
    {
     "data": {
      "text/plain": [
       "4"
      ]
     },
     "execution_count": 8,
     "metadata": {},
     "output_type": "execute_result"
    }
   ],
   "source": [
    "# 类和实例\n",
    "class Foo:     \n",
    "    def method(self,x):  #这是实例的方法，self就是实例；没有初始化方法这里\n",
    "        return x*2\n",
    "b2=Foo() #创建实例b2\n",
    "b2.method(2)   #2就是这里的x参数，self后面的需要介入"
   ]
  },
  {
   "cell_type": "code",
   "execution_count": 12,
   "metadata": {},
   "outputs": [
    {
     "data": {
      "text/plain": [
       "'add'"
      ]
     },
     "execution_count": 12,
     "metadata": {},
     "output_type": "execute_result"
    }
   ],
   "source": [
    "# 类和实例\n",
    "class Zoo:\n",
    "    @staticmethod\n",
    "    def method():  #这是静态方法，静态就是不随着实例变化而变化，所以参数没有实例相关的\n",
    "        return 'add'\n",
    "b3=Zoo() #创建实例b3\n",
    "b3.method()   "
   ]
  },
  {
   "cell_type": "code",
   "execution_count": 17,
   "metadata": {},
   "outputs": [],
   "source": [
    "#继承  子类单继承父类，but有个新的初始化方法，覆盖了父类的，但是又想要父类的初始化方法\n",
    "class Father:\n",
    "    def __init__(self,name,age):\n",
    "        self.name=name\n",
    "        self.age=age\n",
    "    \n",
    "class Child(Father):\n",
    "    def __init__(self,gender,name,age):\n",
    "        self.gender=gender\n",
    "        super().__init__(name,age)    #加入父类的初始化方法\n",
    "\n",
    "xiaoming=Child('female',\"xiaoming\",10)  #实例化的时候就要写完参数"
   ]
  },
  {
   "cell_type": "code",
   "execution_count": 20,
   "metadata": {},
   "outputs": [
    {
     "name": "stdout",
     "output_type": "stream",
     "text": [
      "ok\n"
     ]
    }
   ],
   "source": [
    "#多态和封装   对象的特性，类也是对象；私有化__xx实现封装\n",
    "#\n",
    "class Zoom:\n",
    "    def __repr__(self):\n",
    "        return \"yes\"\n",
    "    def __str__(self):\n",
    "        return \"ok\"\n",
    "d=Zoom()\n",
    "print(d)    #打印，是人打印；__str__对用户友好   __repr__对解释器友好"
   ]
  },
  {
   "cell_type": "code",
   "execution_count": 26,
   "metadata": {},
   "outputs": [
    {
     "name": "stdout",
     "output_type": "stream",
     "text": [
      "ok\n",
      "yes\n"
     ]
    },
    {
     "data": {
      "text/plain": [
       "'haha'"
      ]
     },
     "execution_count": 26,
     "metadata": {},
     "output_type": "execute_result"
    }
   ],
   "source": [
    " #控制属性访问\n",
    "class Control:\n",
    "    __slots__=('name','age')#这是两个类属性，实例创建后不能增加这两个以外的属性，而且read-only，Control.name='nn'以后不能改变\n",
    "class New:\n",
    "    def __getattr__(self,name):\n",
    "        print('ok')\n",
    "    def __setattr__(self,name,value):\n",
    "        print('yes')\n",
    "        self.__dict__[name]=value\n",
    "example=New()\n",
    "example.x     #x既不是类属性也不是实例属性，属性不存在，getattr拦截了访问\n",
    "example.x=\"haha\"  #创建一个属性呢\n",
    "example.x      #他就不会被getattr拦截"
   ]
  },
  {
   "cell_type": "code",
   "execution_count": 27,
   "metadata": {},
   "outputs": [
    {
     "name": "stdout",
     "output_type": "stream",
     "text": [
      "ok\n"
     ]
    }
   ],
   "source": [
    "#标准库和第三方包 import xxx     import numpy as np  用的多\n",
    "# .py文件是个模块可以被import，但是if我需要模块自己运行的时候可以测试执行 又需要在被调用的时候不显示测试执行的内容\n",
    "\n",
    "if __name__=='__main__':   #import某个模块（含有左边这部分）的时候，__name__=module 自己，不执行冒号以后的\n",
    "    print('ok')\n",
    "    "
   ]
  },
  {
   "cell_type": "code",
   "execution_count": 1,
   "metadata": {},
   "outputs": [
    {
     "ename": "AttributeError",
     "evalue": "module 'numpy' has no attribute 'getcwd'",
     "output_type": "error",
     "traceback": [
      "\u001b[1;31m---------------------------------------------------------------------------\u001b[0m",
      "\u001b[1;31mAttributeError\u001b[0m                            Traceback (most recent call last)",
      "\u001b[1;32m<ipython-input-1-f7b44613f7fa>\u001b[0m in \u001b[0;36m<module>\u001b[1;34m\u001b[0m\n\u001b[0;32m      1\u001b[0m \u001b[1;32mimport\u001b[0m \u001b[0mnumpy\u001b[0m \u001b[1;32mas\u001b[0m \u001b[0mnp\u001b[0m\u001b[1;33m\u001b[0m\u001b[1;33m\u001b[0m\u001b[0m\n\u001b[1;32m----> 2\u001b[1;33m \u001b[0mnp\u001b[0m\u001b[1;33m.\u001b[0m\u001b[0mgetcwd\u001b[0m\u001b[1;33m(\u001b[0m\u001b[1;33m)\u001b[0m\u001b[1;33m\u001b[0m\u001b[1;33m\u001b[0m\u001b[0m\n\u001b[0m",
      "\u001b[1;32mc:\\users\\neng neng\\appdata\\local\\programs\\python\\python38\\lib\\site-packages\\numpy\\__init__.py\u001b[0m in \u001b[0;36m__getattr__\u001b[1;34m(attr)\u001b[0m\n\u001b[0;32m    212\u001b[0m                 \u001b[1;32mreturn\u001b[0m \u001b[0mTester\u001b[0m\u001b[1;33m\u001b[0m\u001b[1;33m\u001b[0m\u001b[0m\n\u001b[0;32m    213\u001b[0m             \u001b[1;32melse\u001b[0m\u001b[1;33m:\u001b[0m\u001b[1;33m\u001b[0m\u001b[1;33m\u001b[0m\u001b[0m\n\u001b[1;32m--> 214\u001b[1;33m                 raise AttributeError(\"module {!r} has no attribute \"\n\u001b[0m\u001b[0;32m    215\u001b[0m                                      \"{!r}\".format(__name__, attr))\n\u001b[0;32m    216\u001b[0m \u001b[1;33m\u001b[0m\u001b[0m\n",
      "\u001b[1;31mAttributeError\u001b[0m: module 'numpy' has no attribute 'getcwd'"
     ]
    }
   ],
   "source": []
  },
  {
   "cell_type": "code",
   "execution_count": null,
   "metadata": {},
   "outputs": [],
   "source": []
  }
 ],
 "metadata": {
  "kernelspec": {
   "display_name": "Python 3",
   "language": "python",
   "name": "python3"
  },
  "language_info": {
   "codemirror_mode": {
    "name": "ipython",
    "version": 3
   },
   "file_extension": ".py",
   "mimetype": "text/x-python",
   "name": "python",
   "nbconvert_exporter": "python",
   "pygments_lexer": "ipython3",
   "version": "3.8.5"
  }
 },
 "nbformat": 4,
 "nbformat_minor": 4
}
