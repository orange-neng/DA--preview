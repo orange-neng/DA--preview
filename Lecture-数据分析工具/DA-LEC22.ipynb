{
 "cells": [
  {
   "cell_type": "code",
   "execution_count": null,
   "metadata": {},
   "outputs": [],
   "source": [
    "# !pip3 install sklearn"
   ]
  },
  {
   "cell_type": "code",
   "execution_count": 8,
   "metadata": {},
   "outputs": [],
   "source": [
    "#导入用到的库\n",
    "import sklearn.datasets as datasets\n",
    "import pandas as pd\n",
    "import numpy as np"
   ]
  },
  {
   "cell_type": "code",
   "execution_count": 9,
   "metadata": {},
   "outputs": [],
   "source": [
    "#数据的载入与处理\n",
    "Boston = datasets.load_boston()\n",
    "x = Boston.data   #shape:(506, 13)\n",
    "y = Boston.target   #shape:(506,)"
   ]
  },
  {
   "cell_type": "code",
   "execution_count": 10,
   "metadata": {},
   "outputs": [
    {
     "data": {
      "text/plain": [
       "(506, 13)"
      ]
     },
     "execution_count": 10,
     "metadata": {},
     "output_type": "execute_result"
    }
   ],
   "source": [
    "x.shape"
   ]
  },
  {
   "cell_type": "code",
   "execution_count": 11,
   "metadata": {},
   "outputs": [
    {
     "data": {
      "text/plain": [
       "(506,)"
      ]
     },
     "execution_count": 11,
     "metadata": {},
     "output_type": "execute_result"
    }
   ],
   "source": [
    "y.shape"
   ]
  },
  {
   "cell_type": "code",
   "execution_count": 12,
   "metadata": {},
   "outputs": [],
   "source": [
    "from sklearn.preprocessing import StandardScaler\n",
    "#StandardScaler原理\n",
    "#作用：去均值和方差归一化。且是针对每一个特征维度来做的，而不是针对样本。\n",
    "#经过处理的数据符合标准正态分布，即均值为0，标准差为1\n",
    "#sklearn的标准化工具实例化后会有两个属性，一个是mean_（均值），一个var_（方差）\n",
    "ss = StandardScaler()\n",
    "x = ss.fit_transform(x)  #特征缩放,归一化处理 50，60，，，150  1，2，3，5    用前都要fit处理一下\n",
    "\n",
    "x = x[:,[0,1,2,4,5,6,8,9,10,11,12]]  #这里采用了剔除特征的结果，特征选择。 全部行，部分列\n",
    "from sklearn.model_selection import train_test_split\n",
    "x_train,x_test,y_train,y_test = train_test_split(x,y,test_size = 0.25,random_state = 0)#分割数据集\n"
   ]
  },
  {
   "cell_type": "code",
   "execution_count": 13,
   "metadata": {},
   "outputs": [],
   "source": [
    "#建立模型\n",
    "from sklearn.linear_model import LinearRegression\n",
    "regressor = LinearRegression()\n",
    "regressor = regressor.fit(x_train,y_train)"
   ]
  },
  {
   "cell_type": "code",
   "execution_count": 18,
   "metadata": {},
   "outputs": [],
   "source": [
    "#预测测试集\n",
    "#x_test = pf.fit_transform(x_test)  #对测试集也进行多项处理\n",
    "y_pre = regressor.predict(x_test) #预测"
   ]
  },
  {
   "cell_type": "code",
   "execution_count": 19,
   "metadata": {},
   "outputs": [
    {
     "name": "stdout",
     "output_type": "stream",
     "text": [
      "0.5822097447473797\n",
      "34.133052513742676\n"
     ]
    }
   ],
   "source": [
    "#模型评估\n",
    "from sklearn.metrics import r2_score, mean_squared_error \n",
    "print(r2_score(y_test,y_pre))   #（确定系数）回归分数函数。\n",
    "print(mean_squared_error(y_test,y_pre))  #均方误差回归损失"
   ]
  },
  {
   "cell_type": "code",
   "execution_count": null,
   "metadata": {},
   "outputs": [],
   "source": []
  }
 ],
 "metadata": {
  "kernelspec": {
   "display_name": "Python 3",
   "language": "python",
   "name": "python3"
  },
  "language_info": {
   "codemirror_mode": {
    "name": "ipython",
    "version": 3
   },
   "file_extension": ".py",
   "mimetype": "text/x-python",
   "name": "python",
   "nbconvert_exporter": "python",
   "pygments_lexer": "ipython3",
   "version": "3.8.5"
  }
 },
 "nbformat": 4,
 "nbformat_minor": 2
}
